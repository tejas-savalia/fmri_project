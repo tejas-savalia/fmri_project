{
 "cells": [
  {
   "cell_type": "code",
   "execution_count": 1,
   "metadata": {},
   "outputs": [
    {
     "name": "stderr",
     "output_type": "stream",
     "text": [
      "/home/vm01/anaconda3/lib/python3.8/site-packages/nilearn/datasets/__init__.py:93: FutureWarning: Fetchers from the nilearn.datasets module will be updated in version 0.9 to return python strings instead of bytes and Pandas dataframes instead of Numpy arrays.\n",
      "  warn(\"Fetchers from the nilearn.datasets module will be \"\n"
     ]
    }
   ],
   "source": [
    "import torch\n",
    "import torch.nn as nn\n",
    "import torch.nn.functional as F\n",
    "import numpy as np\n",
    "import nilearn\n",
    "import pandas as pd\n",
    "import seaborn as sns\n",
    "import matplotlib.pyplot as plt\n",
    "from nilearn.input_data import NiftiLabelsMasker, NiftiMasker, NiftiSpheresMasker\n",
    "from nilearn import datasets\n",
    "from nilearn.regions import RegionExtractor\n",
    "from nilearn import plotting\n",
    "import os\n",
    "from util import *"
   ]
  },
  {
   "cell_type": "code",
   "execution_count": 6,
   "metadata": {},
   "outputs": [],
   "source": [
    "atlas = datasets.fetch_atlas_juelich(\"maxprob-thr25-2mm\")\n",
    "masks = {\"premotor\":\"GM Premotor cortex BA6\", \n",
    "         \"motor\": \"GM Primary motor cortex BA4a\",\n",
    "         \"v1\": \"GM Visual cortex V1 BA17\",\n",
    "         \"sup_parietal\": \"GM Superior parietal lobule 7P\",\n",
    "         \"inf_parietal\": \"GM Inferior parietal lobule PF\",\n",
    "         \"v5\": \"GM Visual cortex V5\"\n",
    "        }\n",
    "subject_list = ['01']#, '02', '03', '04', '05', '06', '07', '08', '09', '11', '12', '13', '14', '15', '16', '17', '18', '19']"
   ]
  },
  {
   "cell_type": "code",
   "execution_count": 7,
   "metadata": {},
   "outputs": [
    {
     "name": "stdout",
     "output_type": "stream",
     "text": [
      "Mask done:  premotor\n",
      "Mask done:  motor\n",
      "Mask done:  v1\n",
      "Mask done:  sup_parietal\n",
      "Mask done:  inf_parietal\n",
      "Mask done:  v5\n",
      "Subject done: 01\n"
     ]
    }
   ],
   "source": [
    "\n",
    "for subject_id in subject_list:\n",
    "    for mask in masks.keys():\n",
    "\n",
    "        for run in range(1, 2):\n",
    "            X = []\n",
    "            run_no = str(run).zfill(2)\n",
    "            beta_maps_dir = f'analyses_results/sub-{subject_id}/beta_maps/trial_level/run-{run_no}/'\n",
    "            run_beta_maps = os.listdir(f'analyses_results/sub-{subject_id}/beta_maps/trial_level/run-{run_no}/')\n",
    "\n",
    "            z_maps = {}\n",
    "\n",
    "            for i in run_beta_maps:\n",
    "                if 'prep' in i:\n",
    "                    z_maps[i[5:-7]] = image.load_img(os.path.join(beta_maps_dir, i))\n",
    "\n",
    "            #Sorted by first number\n",
    "            all_images = image.concat_imgs((z_maps['153'], z_maps['207'], z_maps['45'], z_maps['99']))\n",
    "\n",
    "            mask_image = image.new_img_like(atlas.maps, image.get_data(atlas.maps) == np.where(np.array(atlas.labels) == masks[mask])[0][0])\n",
    "            resampled_mask = image.resample_to_img(mask_image, all_images, interpolation='nearest')\n",
    "\n",
    "            fmri_masked = masking.apply_mask(all_images, mask_img=resampled_mask)\n",
    "            X = fmri_masked\n",
    "            y = np.tile(np.repeat(['153', '207', '45', '99'], 10), 1)\n",
    "            #svm_predictions.append(cross_val_predict(OneVsRestClassifier(svm.SVC(probability = True)), X, y, cv=10, method='predict_proba'))\n",
    "            #dec_tree_predictions.append(cross_val_predict(tree.DecisionTreeClassifier(max_depth=4), X, y, cv=10, method='predict_proba'))\n",
    "            #knn_predictions.append(cross_val_predict(KNeighborsClassifier(), X, y, cv=10, method='predict_proba'))\n",
    "\n",
    "        print(\"Mask done: \", mask)\n",
    "    print('Subject done:', subject_id)\n",
    "\n"
   ]
  },
  {
   "cell_type": "code",
   "execution_count": 11,
   "metadata": {},
   "outputs": [
    {
     "data": {
      "text/plain": [
       "(40, 194)"
      ]
     },
     "execution_count": 11,
     "metadata": {},
     "output_type": "execute_result"
    }
   ],
   "source": [
    "X.shape"
   ]
  },
  {
   "cell_type": "code",
   "execution_count": 12,
   "metadata": {},
   "outputs": [],
   "source": [
    "class Net(nn.Module):\n",
    "\n",
    "    def __init__(self):\n",
    "        super(Net, self).__init__()\n",
    "        # 1 input image channel, 6 output channels, 5x5 square convolution\n",
    "        # kernel\n",
    "        # an affine operation: y = Wx + b\n",
    "        self.fc1 = nn.Linear(194, 120)  # 5*5 from image dimension\n",
    "        self.fc2 = nn.Linear(120, 84)\n",
    "        self.fc3 = nn.Linear(84, 4)\n",
    "\n",
    "    def forward(self, x):\n",
    "        x = torch.flatten(x, 1) # flatten all dimensions except the batch dimension\n",
    "        x = F.relu(self.fc1(x))\n",
    "        x = F.relu(self.fc2(x))\n",
    "        x = self.fc3(x)\n",
    "        return x"
   ]
  },
  {
   "cell_type": "code",
   "execution_count": 13,
   "metadata": {},
   "outputs": [],
   "source": [
    "a = Net()"
   ]
  },
  {
   "cell_type": "code",
   "execution_count": 14,
   "metadata": {},
   "outputs": [],
   "source": [
    "out = a(torch.from_numpy(X))"
   ]
  },
  {
   "cell_type": "code",
   "execution_count": 15,
   "metadata": {},
   "outputs": [],
   "source": [
    "target = torch.from_numpy(np.tile(np.repeat([0, 1, 2, 3], 10), 1).astype(int))\n",
    "target_onehot = F.one_hot(target)\n"
   ]
  },
  {
   "cell_type": "code",
   "execution_count": 16,
   "metadata": {},
   "outputs": [
    {
     "data": {
      "text/plain": [
       "torch.Size([40, 4])"
      ]
     },
     "execution_count": 16,
     "metadata": {},
     "output_type": "execute_result"
    }
   ],
   "source": [
    "target_onehot.shape"
   ]
  },
  {
   "cell_type": "code",
   "execution_count": 21,
   "metadata": {},
   "outputs": [],
   "source": [
    "criterion = nn.MSELoss()\n",
    "loss = criterion(out.T, target)"
   ]
  },
  {
   "cell_type": "code",
   "execution_count": 22,
   "metadata": {},
   "outputs": [
    {
     "data": {
      "text/plain": [
       "tensor(3.3757, grad_fn=<MseLossBackward0>)"
      ]
     },
     "execution_count": 22,
     "metadata": {},
     "output_type": "execute_result"
    }
   ],
   "source": []
  }
 ],
 "metadata": {
  "kernelspec": {
   "display_name": "Python 3",
   "language": "python",
   "name": "python3"
  },
  "language_info": {
   "codemirror_mode": {
    "name": "ipython",
    "version": 3
   },
   "file_extension": ".py",
   "mimetype": "text/x-python",
   "name": "python",
   "nbconvert_exporter": "python",
   "pygments_lexer": "ipython3",
   "version": "3.8.5"
  }
 },
 "nbformat": 4,
 "nbformat_minor": 4
}

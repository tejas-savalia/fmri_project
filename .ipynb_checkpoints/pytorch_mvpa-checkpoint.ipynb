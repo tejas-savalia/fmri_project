{
 "cells": [
  {
   "cell_type": "code",
   "execution_count": 1,
   "metadata": {},
   "outputs": [
    {
     "name": "stderr",
     "output_type": "stream",
     "text": [
      "/home/vm01/anaconda3/lib/python3.8/site-packages/nilearn/datasets/__init__.py:93: FutureWarning: Fetchers from the nilearn.datasets module will be updated in version 0.9 to return python strings instead of bytes and Pandas dataframes instead of Numpy arrays.\n",
      "  warn(\"Fetchers from the nilearn.datasets module will be \"\n"
     ]
    }
   ],
   "source": [
    "import torch\n",
    "import torch.nn as nn\n",
    "import torch.functional as F\n",
    "import numpy as np\n",
    "import nilearn\n",
    "import pandas as pd\n",
    "import seaborn as sns\n",
    "import matplotlib.pyplot as plt\n",
    "from nilearn.input_data import NiftiLabelsMasker, NiftiMasker, NiftiSpheresMasker\n",
    "from nilearn import datasets\n",
    "from nilearn.regions import RegionExtractor\n",
    "from nilearn import plotting\n"
   ]
  },
  {
   "cell_type": "code",
   "execution_count": null,
   "metadata": {},
   "outputs": [],
   "source": [
    "atlas = datasets.fetch_atlas_juelich(\"maxprob-thr25-2mm\")\n",
    "masks = {\"premotor\":\"GM Premotor cortex BA6\", \n",
    "         \"motor\": \"GM Primary motor cortex BA4a\",\n",
    "         \"v1\": \"GM Visual cortex V1 BA17\",\n",
    "         \"sup_parietal\": \"GM Superior parietal lobule 7P\",\n",
    "         \"inf_parietal\": \"GM Inferior parietal lobule PF\",\n",
    "         \"v5\": \"GM Visual cortex V5\"\n",
    "        }\n",
    "subject_list = ['01', '02', '03', '04', '05', '06', '07', '08', '09', '11', '12', '13', '14', '15', '16', '17', '18', '19']"
   ]
  },
  {
   "cell_type": "code",
   "execution_count": null,
   "metadata": {},
   "outputs": [],
   "source": [
    "for subject_id in subject_list:\n",
    "    for mask in masks.keys():\n",
    "\n",
    "        for run in range(1, 11):\n",
    "            X = []\n",
    "            run_no = str(run).zfill(2)\n",
    "            beta_maps_dir = f'analyses_results/sub-{subject_id}/beta_maps/trial_level/run-{run_no}/'\n",
    "            run_beta_maps = os.listdir(f'analyses_results/sub-{subject_id}/beta_maps/trial_level/run-{run_no}/')\n",
    "\n",
    "            z_maps = {}\n",
    "\n",
    "            for i in run_beta_maps:\n",
    "                z_maps[i[5:-7]] = image.load_img(os.path.join(beta_maps_dir, i))\n",
    "\n",
    "            #Sorted by first number\n",
    "            all_images = image.concat_imgs((z_maps['153'], z_maps['207'], z_maps['45'], z_maps['99']))\n",
    "\n",
    "            mask_image = image.new_img_like(atlas.maps, image.get_data(atlas.maps) == np.where(np.array(atlas.labels) == masks[mask])[0][0])\n",
    "            resampled_mask = image.resample_to_img(mask_image, all_images, interpolation='nearest')\n",
    "\n",
    "            fmri_masked = masking.apply_mask(all_images, mask_img=resampled_mask)\n",
    "            X = fmri_masked\n",
    "            y = np.tile(np.repeat(['153', '207', '45', '99'], 10), 1)\n",
    "            #svm_predictions.append(cross_val_predict(OneVsRestClassifier(svm.SVC(probability = True)), X, y, cv=10, method='predict_proba'))\n",
    "            dec_tree_predictions.append(cross_val_predict(tree.DecisionTreeClassifier(max_depth=4), X, y, cv=10, method='predict_proba'))\n",
    "            knn_predictions.append(cross_val_predict(KNeighborsClassifier(), X, y, cv=10, method='predict_proba'))\n",
    "\n",
    "        print(\"Mask done: \", mask)\n",
    "    print('Subject done:', subject_id)\n",
    "\n"
   ]
  }
 ],
 "metadata": {
  "kernelspec": {
   "display_name": "Python 3",
   "language": "python",
   "name": "python3"
  },
  "language_info": {
   "codemirror_mode": {
    "name": "ipython",
    "version": 3
   },
   "file_extension": ".py",
   "mimetype": "text/x-python",
   "name": "python",
   "nbconvert_exporter": "python",
   "pygments_lexer": "ipython3",
   "version": "3.8.5"
  }
 },
 "nbformat": 4,
 "nbformat_minor": 4
}

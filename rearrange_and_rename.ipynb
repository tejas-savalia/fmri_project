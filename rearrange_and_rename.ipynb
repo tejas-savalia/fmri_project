{
 "cells": [
  {
   "cell_type": "code",
   "execution_count": 1,
   "metadata": {},
   "outputs": [],
   "source": [
    "import numpy as np\n",
    "import os\n",
    "import re\n"
   ]
  },
  {
   "cell_type": "markdown",
   "metadata": {},
   "source": [
    "# Rename"
   ]
  },
  {
   "cell_type": "markdown",
   "metadata": {},
   "source": [
    "## Renaming functional files"
   ]
  },
  {
   "cell_type": "code",
   "execution_count": 14,
   "metadata": {},
   "outputs": [],
   "source": [
    "#Extract functional files\n",
    "sub_id = '19'\n",
    "type_data = '/func'\n",
    "path = 'data/sub-'+ sub_id + type_data\n",
    "\n",
    "files = os.listdir(path)\n",
    "data_files = list()\n",
    "meta_files = list()\n",
    "for i in files:\n",
    "    if '.json' in i:\n",
    "        meta_files.append(i)\n",
    "    elif '.nii.gz' in i:\n",
    "        data_files.append(i)"
   ]
  },
  {
   "cell_type": "code",
   "execution_count": null,
   "metadata": {},
   "outputs": [],
   "source": []
  },
  {
   "cell_type": "code",
   "execution_count": 15,
   "metadata": {},
   "outputs": [],
   "source": [
    "#To rename data files\n",
    "for i in data_files:\n",
    "    #extract run number through regex \"bold_\\d+\" which extracts\n",
    "    #a list of string [\"bold_5\"], from which, first extract the string,\n",
    "    #then extract the 6th character onwards, and then convert to int\n",
    "    run_no = int(re.findall(r'bold_\\d+', i)[0][5:])\n",
    "    if run_no%2 == 0:\n",
    "        task_name = \"rotate\"\n",
    "    else:\n",
    "        task_name = \"straight\"\n",
    "    #run_no:02 adds a 0 before the single digit number\n",
    "    source = f'data/sub-{sub_id}'+type_data+'/'+ i\n",
    "    dest = f\"data/sub-{sub_id}\"+type_data + '/' + f\"sub-{sub_id}_task-{task_name}_run-{run_no:02}_bold.nii.gz\"\n",
    "    os.rename(source, dest)"
   ]
  },
  {
   "cell_type": "code",
   "execution_count": 16,
   "metadata": {},
   "outputs": [],
   "source": [
    "#To rename metadata files\n",
    "for i in meta_files:\n",
    "    #extract run number through regex \"bold_\\d+\" which extracts\n",
    "    #a list of string [\"bold_5\"], from which, first extract the string,\n",
    "    #then extract the 6th character onwards, and then convert to int\n",
    "    run_no = int(re.findall(r'bold_\\d+', i)[0][5:])\n",
    "    if run_no%2 == 0:\n",
    "        task_name = \"rotate\"\n",
    "    else:\n",
    "        task_name = \"straight\"\n",
    "    #run_no:02 adds a 0 before the single digit number\n",
    "    source = f'data/sub-{sub_id}'+type_data+'/'+ i\n",
    "    dest = f\"data/sub-{sub_id}\"+type_data + '/' + f\"sub-{sub_id}_task-{task_name}_run-{run_no:02}_bold.json\"\n",
    "    os.rename(source, dest)"
   ]
  },
  {
   "cell_type": "markdown",
   "metadata": {},
   "source": [
    "## Rename Anatomical files"
   ]
  },
  {
   "cell_type": "code",
   "execution_count": 17,
   "metadata": {},
   "outputs": [],
   "source": [
    "#Extract anat\n",
    "type_data = 'anat'\n",
    "path = f\"data/sub-{sub_id}/{type_data}\"\n",
    "files = np.sort(os.listdir(path))"
   ]
  },
  {
   "cell_type": "code",
   "execution_count": 18,
   "metadata": {},
   "outputs": [],
   "source": [
    "#Anat data rename\n",
    "source = files[1]\n",
    "dest = f\"{path}/sub-{sub_id}_T1w.nii.gz\"\n",
    "os.rename(f\"{path}/{source}\", dest)"
   ]
  },
  {
   "cell_type": "code",
   "execution_count": 19,
   "metadata": {},
   "outputs": [],
   "source": [
    "#Anat meta rename\n",
    "source = files[0] #json file\n",
    "dest = f\"{path}/sub-{sub_id}_T1w.json\"\n",
    "os.rename(f\"{path}/{source}\", dest)"
   ]
  },
  {
   "cell_type": "code",
   "execution_count": null,
   "metadata": {},
   "outputs": [],
   "source": []
  },
  {
   "cell_type": "code",
   "execution_count": null,
   "metadata": {},
   "outputs": [],
   "source": []
  },
  {
   "cell_type": "code",
   "execution_count": null,
   "metadata": {},
   "outputs": [],
   "source": []
  },
  {
   "cell_type": "code",
   "execution_count": null,
   "metadata": {},
   "outputs": [],
   "source": []
  },
  {
   "cell_type": "code",
   "execution_count": null,
   "metadata": {},
   "outputs": [],
   "source": []
  },
  {
   "cell_type": "code",
   "execution_count": null,
   "metadata": {},
   "outputs": [],
   "source": []
  },
  {
   "cell_type": "code",
   "execution_count": null,
   "metadata": {},
   "outputs": [],
   "source": []
  },
  {
   "cell_type": "code",
   "execution_count": null,
   "metadata": {},
   "outputs": [],
   "source": []
  },
  {
   "cell_type": "code",
   "execution_count": null,
   "metadata": {},
   "outputs": [],
   "source": []
  }
 ],
 "metadata": {
  "kernelspec": {
   "display_name": "Python 3",
   "language": "python",
   "name": "python3"
  },
  "language_info": {
   "codemirror_mode": {
    "name": "ipython",
    "version": 3
   },
   "file_extension": ".py",
   "mimetype": "text/x-python",
   "name": "python",
   "nbconvert_exporter": "python",
   "pygments_lexer": "ipython3",
   "version": "3.8.5"
  }
 },
 "nbformat": 4,
 "nbformat_minor": 4
}

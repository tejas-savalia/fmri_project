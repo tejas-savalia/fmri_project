{
 "cells": [
  {
   "cell_type": "code",
   "execution_count": 49,
   "metadata": {},
   "outputs": [],
   "source": [
    "import numpy as np\n",
    "import pandas as pd\n",
    "import matplotlib.pyplot as plt\n",
    "import os\n",
    "import json"
   ]
  },
  {
   "cell_type": "code",
   "execution_count": 51,
   "metadata": {},
   "outputs": [],
   "source": [
    "subject_id = '23'\n",
    "data = pd.read_csv('sub-23/sub-23_behavioral/23_vm_30xx_2022_Apr_29_1531.csv')"
   ]
  },
  {
   "cell_type": "code",
   "execution_count": 52,
   "metadata": {},
   "outputs": [],
   "source": [
    "data = data[data['target_onset'].notna()]"
   ]
  },
  {
   "cell_type": "code",
   "execution_count": 53,
   "metadata": {},
   "outputs": [
    {
     "name": "stderr",
     "output_type": "stream",
     "text": [
      "/tmp/ipykernel_28066/1044001338.py:2: SettingWithCopyWarning: \n",
      "A value is trying to be set on a copy of a slice from a DataFrame\n",
      "\n",
      "See the caveats in the documentation: https://pandas.pydata.org/pandas-docs/stable/user_guide/indexing.html#returning-a-view-versus-a-copy\n",
      "  data['trial_type'][data['go'] == 0 ] = 'nogo'\n"
     ]
    }
   ],
   "source": [
    "data['trial_type'] = 'go'\n",
    "data['trial_type'][data['go'] == 0 ] = 'nogo'"
   ]
  },
  {
   "cell_type": "code",
   "execution_count": 54,
   "metadata": {},
   "outputs": [],
   "source": [
    "#Since exp restarted for sub-01, remapping the original loops to what they would've been\n",
    "#Run only for the full file, not individual block files\n",
    "#data['alternate_baseline_rotation.thisTrialN'] = data['alternate_baseline_rotation.thisTrialN'] + 1"
   ]
  },
  {
   "cell_type": "code",
   "execution_count": 55,
   "metadata": {},
   "outputs": [],
   "source": [
    "def save_events_file(subject_id, chosen_block, run_no):\n",
    "    prep_duration = chosen_block.signal_onset - chosen_block.target_onset\n",
    "    exec_time = chosen_block.feedback_onset - chosen_block.signal_onset\n",
    "    wait_time = chosen_block.target_onset - chosen_block.wait_for_target_onset\n",
    "    event_trial_type = chosen_block.trial_type + '_' + chosen_block.target_angle.astype(int).astype(str)\n",
    "    exec_type = list()\n",
    "    for typ, angle in zip(chosen_block.trial_type, list(chosen_block.target_angle.astype(int).astype(str))):\n",
    "        if typ == 'go':\n",
    "            e = 'movement_' + angle\n",
    "            exec_type.append(e)\n",
    "        else:\n",
    "            e = 'non_movement_' + angle\n",
    "            exec_type.append(e)\n",
    "    prep_event_trial_type = event_trial_type +  str('_prep')\n",
    "    wait_event_trial_type = np.repeat(str('wait'), len(event_trial_type))\n",
    "    \n",
    "    onset = list(chosen_block.wait_for_target_onset) + list(chosen_block.target_onset) + list(chosen_block.signal_onset)\n",
    "    trial_type = list(wait_event_trial_type) + list(prep_event_trial_type) + exec_type\n",
    "    duration = list(wait_time) + list(prep_duration) + list(exec_time)\n",
    "    \n",
    "    #print (prep_duration, prep_event_trial_type)\n",
    "    events = pd.DataFrame({'onset': onset, \n",
    "                       'trial_type': trial_type,\n",
    "                       'duration': duration                      \n",
    "                      })\n",
    "    dir_name = 'sub-' + subject_id + '/run-' + run_no \n",
    "    if not os.path.exists(dir_name):\n",
    "        os.mkdir(dir_name)\n",
    "    file_name = dir_name + '/events.csv'\n",
    "    events.to_csv(file_name)\n",
    "    #return events"
   ]
  },
  {
   "cell_type": "code",
   "execution_count": 19,
   "metadata": {},
   "outputs": [
    {
     "name": "stderr",
     "output_type": "stream",
     "text": [
      "/home/vm01/anaconda3/lib/python3.8/site-packages/pandas/core/indexing.py:1745: SettingWithCopyWarning: \n",
      "A value is trying to be set on a copy of a slice from a DataFrame.\n",
      "Try using .loc[row_indexer,col_indexer] = value instead\n",
      "\n",
      "See the caveats in the documentation: https://pandas.pydata.org/pandas-docs/stable/user_guide/indexing.html#returning-a-view-versus-a-copy\n",
      "  isetter(ilocs[0], value)\n",
      "/home/vm01/anaconda3/lib/python3.8/site-packages/pandas/core/indexing.py:1745: SettingWithCopyWarning: \n",
      "A value is trying to be set on a copy of a slice from a DataFrame.\n",
      "Try using .loc[row_indexer,col_indexer] = value instead\n",
      "\n",
      "See the caveats in the documentation: https://pandas.pydata.org/pandas-docs/stable/user_guide/indexing.html#returning-a-view-versus-a-copy\n",
      "  isetter(ilocs[0], value)\n",
      "/home/vm01/anaconda3/lib/python3.8/site-packages/pandas/core/indexing.py:1745: SettingWithCopyWarning: \n",
      "A value is trying to be set on a copy of a slice from a DataFrame.\n",
      "Try using .loc[row_indexer,col_indexer] = value instead\n",
      "\n",
      "See the caveats in the documentation: https://pandas.pydata.org/pandas-docs/stable/user_guide/indexing.html#returning-a-view-versus-a-copy\n",
      "  isetter(ilocs[0], value)\n",
      "/home/vm01/anaconda3/lib/python3.8/site-packages/pandas/core/indexing.py:1745: SettingWithCopyWarning: \n",
      "A value is trying to be set on a copy of a slice from a DataFrame.\n",
      "Try using .loc[row_indexer,col_indexer] = value instead\n",
      "\n",
      "See the caveats in the documentation: https://pandas.pydata.org/pandas-docs/stable/user_guide/indexing.html#returning-a-view-versus-a-copy\n",
      "  isetter(ilocs[0], value)\n",
      "/home/vm01/anaconda3/lib/python3.8/site-packages/pandas/core/indexing.py:1745: SettingWithCopyWarning: \n",
      "A value is trying to be set on a copy of a slice from a DataFrame.\n",
      "Try using .loc[row_indexer,col_indexer] = value instead\n",
      "\n",
      "See the caveats in the documentation: https://pandas.pydata.org/pandas-docs/stable/user_guide/indexing.html#returning-a-view-versus-a-copy\n",
      "  isetter(ilocs[0], value)\n"
     ]
    }
   ],
   "source": [
    "#double check the run numbers\n",
    "for i in np.unique(data['alternate_baseline_rotation.thisTrialN']):\n",
    "    temp_data = data[data['alternate_baseline_rotation.thisTrialN'] == i]\n",
    "    \n",
    "\n",
    "    \n",
    "    baseline_block = temp_data[temp_data['baseline_inner_circle.started'].notna()]\n",
    "    ## Setting signal time == actual signal time + IT\n",
    "    baseline_block.loc[baseline_block.trial_type == 'go', 'signal_onset'] = baseline_block.loc[baseline_block.trial_type == 'go', 'signal_onset'] + baseline_block[baseline_block['trial_type'] == 'go']['IT'].fillna(0)\n",
    "\n",
    "    save_events_file(subject_id, baseline_block, str(int(i)*2+1).zfill(2))\n",
    "\n",
    "\n",
    "    rotation_block = temp_data[temp_data['rotation_inner_circle.started'].notna()]\n",
    "    ITs = rotation_block[rotation_block['trial_type'] == 'go']['IT'].values\n",
    "\n",
    "    ## Setting signal time == actual signal time + IT\n",
    "    rotation_block.loc[rotation_block.trial_type == 'go', 'signal_onset'] = rotation_block.loc[rotation_block.trial_type == 'go', 'signal_onset'] + rotation_block[rotation_block['trial_type'] == 'go']['IT'].fillna(0)\n",
    "    \n",
    "    save_events_file(subject_id, rotation_block, str(int(i)*2+2).zfill(2))\n"
   ]
  },
  {
   "cell_type": "code",
   "execution_count": 57,
   "metadata": {},
   "outputs": [],
   "source": [
    "temp_data = data[data['alternate_baseline_rotation.thisTrialN'] == 0]\n",
    "baseline_block = temp_data[temp_data['baseline_inner_circle.started'].notna()].reset_index()\n",
    "# x_end, y_end = (json.loads(baseline_block['go_mouse.x'][5])[-1], json.loads(baseline_block['go_mouse.y'][5])[-1])"
   ]
  },
  {
   "cell_type": "code",
   "execution_count": 75,
   "metadata": {},
   "outputs": [
    {
     "data": {
      "text/plain": [
       "-0.096354164"
      ]
     },
     "execution_count": 75,
     "metadata": {},
     "output_type": "execute_result"
    }
   ],
   "source": [
    "json.loads(baseline_block['go_mouse.x'][3])[-1]"
   ]
  },
  {
   "cell_type": "code",
   "execution_count": 73,
   "metadata": {},
   "outputs": [
    {
     "data": {
      "text/plain": [
       "45.0"
      ]
     },
     "execution_count": 73,
     "metadata": {},
     "output_type": "execute_result"
    }
   ],
   "source": [
    "baseline_block['target_angle'][4]"
   ]
  },
  {
   "cell_type": "code",
   "execution_count": null,
   "metadata": {},
   "outputs": [],
   "source": [
    "(0.234375, 0.0703125)"
   ]
  },
  {
   "cell_type": "code",
   "execution_count": null,
   "metadata": {},
   "outputs": [],
   "source": [
    "#Read a straight-rotate block pair in a temporary variable\n",
    "temp_data = data[data['alternate_baseline_rotation.thisTrialN'] == i]\n",
    "\n",
    "#Extract the baseline block from the block pair. Done by selecting those rows for which \n",
    "baseline_block = temp_data[temp_data['baseline_inner_circle.started'].notna()]\n",
    "baseline_block.loc[baseline_block.trial_type == 'go', 'signal_onset'] = baseline_block.loc[baseline_block.trial_type == 'go', 'signal_onset'] + baseline_block[baseline_block['trial_type'] == 'go']['IT'].fillna(0)\n",
    "\n",
    "# save_events_file(subject_id, baseline_block, str(int(i)*2+1).zfill(2))\n",
    "\n",
    "\n",
    "\n",
    "prep_duration = chosen_block.signal_onset - chosen_block.target_onset\n",
    "exec_time = chosen_block.feedback_onset - chosen_block.signal_onset\n",
    "wait_time = chosen_block.target_onset - chosen_block.wait_for_target_onset\n",
    "event_trial_type = chosen_block.trial_type + '_' + chosen_block.target_angle.astype(int).astype(str)\n",
    "exec_type = list()\n",
    "for typ, angle in zip(chosen_block.trial_type, list(chosen_block.target_angle.astype(int).astype(str))):\n",
    "    if typ == 'go':\n",
    "        e = 'movement_' + angle\n",
    "        exec_type.append(e)\n",
    "    else:\n",
    "        e = 'non_movement_' + angle\n",
    "        exec_type.append(e)\n",
    "prep_event_trial_type = event_trial_type +  str('_prep')\n",
    "wait_event_trial_type = np.repeat(str('wait'), len(event_trial_type))\n",
    "\n",
    "onset = list(chosen_block.wait_for_target_onset) + list(chosen_block.target_onset) + list(chosen_block.signal_onset)\n",
    "trial_type = list(wait_event_trial_type) + list(prep_event_trial_type) + exec_type\n",
    "duration = list(wait_time) + list(prep_duration) + list(exec_time)\n",
    "\n",
    "#print (prep_duration, prep_event_trial_type)\n",
    "events = pd.DataFrame({'onset': onset, \n",
    "                   'trial_type': trial_type,\n",
    "                   'duration': duration                      \n",
    "                  })\n",
    "dir_name = 'sub-' + subject_id + '/run-' + run_no \n",
    "if not os.path.exists(dir_name):\n",
    "    os.mkdir(dir_name)\n",
    "file_name = dir_name + '/events.csv'\n",
    "events.to_csv(file_name)\n"
   ]
  },
  {
   "cell_type": "code",
   "execution_count": null,
   "metadata": {},
   "outputs": [],
   "source": []
  },
  {
   "cell_type": "code",
   "execution_count": null,
   "metadata": {},
   "outputs": [],
   "source": []
  },
  {
   "cell_type": "code",
   "execution_count": null,
   "metadata": {},
   "outputs": [],
   "source": []
  },
  {
   "cell_type": "code",
   "execution_count": null,
   "metadata": {},
   "outputs": [],
   "source": []
  },
  {
   "cell_type": "code",
   "execution_count": null,
   "metadata": {},
   "outputs": [],
   "source": []
  },
  {
   "cell_type": "code",
   "execution_count": null,
   "metadata": {},
   "outputs": [],
   "source": []
  },
  {
   "cell_type": "code",
   "execution_count": null,
   "metadata": {},
   "outputs": [],
   "source": []
  },
  {
   "cell_type": "code",
   "execution_count": 6,
   "metadata": {},
   "outputs": [],
   "source": []
  },
  {
   "cell_type": "code",
   "execution_count": 253,
   "metadata": {},
   "outputs": [],
   "source": [
    "events = save_events_file(rotation_block, '1')"
   ]
  },
  {
   "cell_type": "code",
   "execution_count": 292,
   "metadata": {},
   "outputs": [],
   "source": []
  },
  {
   "cell_type": "code",
   "execution_count": 307,
   "metadata": {},
   "outputs": [],
   "source": []
  },
  {
   "cell_type": "code",
   "execution_count": 308,
   "metadata": {},
   "outputs": [
    {
     "data": {
      "text/plain": [
       "3      23.713176\n",
       "6      31.787733\n",
       "9      43.075715\n",
       "18     82.603426\n",
       "25    115.963152\n",
       "28    130.632421\n",
       "33    146.053303\n",
       "38    163.999711\n",
       "47    202.911588\n",
       "50    209.700720\n",
       "55    224.389177\n",
       "58    233.892747\n",
       "61    241.363289\n",
       "74    305.895287\n",
       "79    328.668915\n",
       "82    338.334487\n",
       "87    360.947555\n",
       "90    367.265466\n",
       "93    373.877938\n",
       "96    380.975361\n",
       "Name: signal_onset, dtype: float64"
      ]
     },
     "execution_count": 308,
     "metadata": {},
     "output_type": "execute_result"
    }
   ],
   "source": [
    "rotation_block[rotation_block['trial_type'] == 'go']['signal_onset']"
   ]
  },
  {
   "cell_type": "code",
   "execution_count": 288,
   "metadata": {},
   "outputs": [
    {
     "data": {
      "text/plain": [
       "3          NaN\n",
       "6     2.229609\n",
       "9     0.638783\n",
       "18    0.595668\n",
       "25    0.605372\n",
       "28    0.698882\n",
       "33    0.511706\n",
       "38    0.514763\n",
       "47    0.738032\n",
       "50    0.611868\n",
       "55    0.592949\n",
       "58    0.524447\n",
       "61    0.567836\n",
       "74    0.496074\n",
       "79    0.695878\n",
       "82    0.555495\n",
       "87    0.579989\n",
       "90    0.826583\n",
       "93    0.474808\n",
       "96    1.034435\n",
       "Name: IT, dtype: float64"
      ]
     },
     "execution_count": 288,
     "metadata": {},
     "output_type": "execute_result"
    }
   ],
   "source": [
    "rotation_block[rotation_block['trial_type'] == 'go']['IT']  "
   ]
  },
  {
   "cell_type": "code",
   "execution_count": null,
   "metadata": {},
   "outputs": [],
   "source": []
  },
  {
   "cell_type": "code",
   "execution_count": null,
   "metadata": {},
   "outputs": [],
   "source": []
  },
  {
   "cell_type": "markdown",
   "metadata": {},
   "source": [
    "## Use events files to extract trial level events. "
   ]
  },
  {
   "cell_type": "code",
   "execution_count": 8,
   "metadata": {},
   "outputs": [],
   "source": [
    "subject_id = '01'\n",
    "for run in range(1, 11):\n",
    "    events_file = 'sub-' + subject_id + '/run-' + str(run).zfill(2) + '/events.csv'\n",
    "    events = pd.read_csv(events_file).drop('Unnamed: 0', 1)"
   ]
  },
  {
   "cell_type": "code",
   "execution_count": 18,
   "metadata": {},
   "outputs": [
    {
     "data": {
      "text/html": [
       "<div>\n",
       "<style scoped>\n",
       "    .dataframe tbody tr th:only-of-type {\n",
       "        vertical-align: middle;\n",
       "    }\n",
       "\n",
       "    .dataframe tbody tr th {\n",
       "        vertical-align: top;\n",
       "    }\n",
       "\n",
       "    .dataframe thead th {\n",
       "        text-align: right;\n",
       "    }\n",
       "</style>\n",
       "<table border=\"1\" class=\"dataframe\">\n",
       "  <thead>\n",
       "    <tr style=\"text-align: right;\">\n",
       "      <th></th>\n",
       "      <th>onset</th>\n",
       "      <th>trial_type</th>\n",
       "      <th>duration</th>\n",
       "    </tr>\n",
       "  </thead>\n",
       "  <tbody>\n",
       "    <tr>\n",
       "      <th>0</th>\n",
       "      <td>1.354091</td>\n",
       "      <td>wait</td>\n",
       "      <td>2.018276</td>\n",
       "    </tr>\n",
       "    <tr>\n",
       "      <th>1</th>\n",
       "      <td>8.063258</td>\n",
       "      <td>wait</td>\n",
       "      <td>2.012760</td>\n",
       "    </tr>\n",
       "    <tr>\n",
       "      <th>2</th>\n",
       "      <td>16.198916</td>\n",
       "      <td>wait</td>\n",
       "      <td>3.012424</td>\n",
       "    </tr>\n",
       "    <tr>\n",
       "      <th>3</th>\n",
       "      <td>23.677944</td>\n",
       "      <td>wait</td>\n",
       "      <td>3.024296</td>\n",
       "    </tr>\n",
       "    <tr>\n",
       "      <th>4</th>\n",
       "      <td>33.009063</td>\n",
       "      <td>wait</td>\n",
       "      <td>5.012558</td>\n",
       "    </tr>\n",
       "    <tr>\n",
       "      <th>...</th>\n",
       "      <td>...</td>\n",
       "      <td>...</td>\n",
       "      <td>...</td>\n",
       "    </tr>\n",
       "    <tr>\n",
       "      <th>115</th>\n",
       "      <td>346.454803</td>\n",
       "      <td>movement_207</td>\n",
       "      <td>0.590417</td>\n",
       "    </tr>\n",
       "    <tr>\n",
       "      <th>116</th>\n",
       "      <td>353.586614</td>\n",
       "      <td>non_movement_153</td>\n",
       "      <td>3.068839</td>\n",
       "    </tr>\n",
       "    <tr>\n",
       "      <th>117</th>\n",
       "      <td>364.310611</td>\n",
       "      <td>non_movement_153</td>\n",
       "      <td>0.382517</td>\n",
       "    </tr>\n",
       "    <tr>\n",
       "      <th>118</th>\n",
       "      <td>373.115227</td>\n",
       "      <td>non_movement_207</td>\n",
       "      <td>3.075370</td>\n",
       "    </tr>\n",
       "    <tr>\n",
       "      <th>119</th>\n",
       "      <td>384.209079</td>\n",
       "      <td>movement_99</td>\n",
       "      <td>0.595416</td>\n",
       "    </tr>\n",
       "  </tbody>\n",
       "</table>\n",
       "<p>120 rows × 3 columns</p>\n",
       "</div>"
      ],
      "text/plain": [
       "          onset        trial_type  duration\n",
       "0      1.354091              wait  2.018276\n",
       "1      8.063258              wait  2.012760\n",
       "2     16.198916              wait  3.012424\n",
       "3     23.677944              wait  3.024296\n",
       "4     33.009063              wait  5.012558\n",
       "..          ...               ...       ...\n",
       "115  346.454803      movement_207  0.590417\n",
       "116  353.586614  non_movement_153  3.068839\n",
       "117  364.310611  non_movement_153  0.382517\n",
       "118  373.115227  non_movement_207  3.075370\n",
       "119  384.209079       movement_99  0.595416\n",
       "\n",
       "[120 rows x 3 columns]"
      ]
     },
     "execution_count": 18,
     "metadata": {},
     "output_type": "execute_result"
    }
   ],
   "source": [
    "events"
   ]
  },
  {
   "cell_type": "code",
   "execution_count": 20,
   "metadata": {},
   "outputs": [],
   "source": [
    "def save_prep_events(alternate_loop_no, baseline_run_no, rotation_run_no):\n",
    "    d1 = data[data['alternate_baseline_rotation.thisN'] == alternate_loop_no]\n",
    "    baseline_idx = np.unique(d1['baseline_loop.thisTrialN'], return_index=True)[1][:40]\n",
    "    rotation_idx = np.unique(d1['rotation_loop.thisTrialN'], return_index=True)[1][:40]\n",
    "    \n",
    "    #For baseline Runs\n",
    "    target_directions = np.array(d1.iloc[baseline_idx]['target_angle']).astype(int).astype(str)\n",
    "    go_trial = np.array(d1.iloc[baseline_idx]['go']).astype(str)\n",
    "    #iti = np.array(d1.iloc[baseline_idx]['ITI'])\n",
    "    #it = np.array(d1.IT[baseline_idx])\n",
    "\n",
    "    baseline_go_prep_time = d1.iloc[baseline_idx][d1.go == 1.0]['baseline_inner_circle_go.started'].values - d1.iloc[baseline_idx][d1.go == 1.0]['target.started'].values\n",
    "    baseline_nogo_prep_time = d1.iloc[baseline_idx][d1.go == 0.0]['baseline_inner_circle_nog.started'].values - d1.iloc[baseline_idx][d1.go == 0.0]['target.started'].values\n",
    "\n",
    "    target_onset = np.array(d1.iloc[baseline_idx]['target.started'] - np.array(d1.iloc[baseline_idx]['target.started'])[0])\n",
    "\n",
    "    duration = np.zeros(40)\n",
    "    duration[go_trial == '1.0'] = baseline_go_prep_time\n",
    "    duration[go_trial == '0.0'] = baseline_nogo_prep_time\n",
    "    go_trial[go_trial == '1.0'] = 'go_'\n",
    "    go_trial[go_trial == '0.0'] = 'nogo_'\n",
    "    \n",
    "    ##Saving file\n",
    "    events = pd.DataFrame({'onset': target_onset.astype(float),\n",
    "                           'trial_type':np.add(go_trial.astype(object), target_directions.astype(object)), \n",
    "                           'duration': duration                      \n",
    "                          })\n",
    "    events_non_prep_onsets = events['onset'].astype(float) + events['duration'].astype(float)\n",
    "    events_non_prep_durations = np.array(events['onset'][1:]) - np.array(events_non_prep_onsets[:-1])\n",
    "    non_prep_events = pd.DataFrame({'onset': events_non_prep_onsets[1:],\n",
    "                                    'trial_type': 'non_prep_'+ events['trial_type'][1:],\n",
    "                                    'duration': events_non_prep_durations\n",
    "                                   })\n",
    "    events = pd.concat([events, non_prep_events])\n",
    "\n",
    "    sorted_events = events.sort_values(by = 'trial_type')\n",
    "    baseline_file_name = 'events/prep_time_events/prep_events_run_' + str(baseline_run_no) + '.csv'\n",
    "#     sorted_events.to_csv(baseline_file_name)\n",
    "    \n",
    "    #For rotation Runs\n",
    "    target_directions = np.array(d1.iloc[rotation_idx]['target_angle']).astype(int).astype(str)\n",
    "    go_trial = np.array(d1.iloc[rotation_idx]['go']).astype(str)\n",
    "    #iti = np.array(d1.iloc[rotation_idx]['ITI'])\n",
    "    #it = np.array(d1.IT[rotation_idx])\n",
    "    non_prep_trial = np.repeat(['non_prep'], len(go_trial))\n",
    "\n",
    "    rotation_go_prep_time = d1.iloc[rotation_idx][d1.go == 1.0]['rotation_inner_circle_go.started'].values - d1.iloc[rotation_idx][d1.go == 1.0]['target_rotated.started'].values\n",
    "    rotation_nogo_prep_time = d1.iloc[rotation_idx][d1.go == 0.0]['rotation_inner_circle_nogo.started'].values - d1.iloc[rotation_idx][d1.go == 0.0]['target_rotated.started'].values\n",
    "\n",
    "    target_onset = np.array(d1.iloc[rotation_idx]['target_rotated.started'] - np.array(d1.iloc[rotation_idx]['target_rotated.started'])[0])\n",
    "\n",
    "    duration = np.zeros(40)\n",
    "    duration[go_trial == '1.0'] = rotation_go_prep_time\n",
    "    duration[go_trial == '0.0'] = rotation_nogo_prep_time\n",
    "    go_trial[go_trial == '1.0'] = 'go_'\n",
    "    go_trial[go_trial == '0.0'] = 'nogo_'\n",
    "\n",
    "    events = pd.DataFrame({'onset': target_onset.astype(float),\n",
    "                           'trial_type':np.add(go_trial.astype(object), target_directions.astype(object)), \n",
    "                           'duration': duration                      \n",
    "                          })\n",
    "    events_non_prep_onsets = events['onset'].astype(float) + events['duration'].astype(float)\n",
    "    events_non_prep_durations = np.array(events['onset'][1:]) - np.array(events_non_prep_onsets[:-1])\n",
    "    non_prep_events = pd.DataFrame({'onset': events_non_prep_onsets[1:],\n",
    "                                    'trial_type': 'non_prep_'+ events['trial_type'][1:],\n",
    "                                    'duration': events_non_prep_durations\n",
    "                                   })\n",
    "    events = pd.concat([events, non_prep_events])\n",
    "    sorted_events = events.sort_values(by = 'onset')\n",
    "    rot_file_name = 'events/prep_time_events/prep_events_run_' + str(rotation_run_no) + '.csv'\n",
    "\n",
    "#     sorted_events.to_csv(rot_file_name)\n",
    "    return sorted_events, events_non_prep_onsets, events_non_prep_durations"
   ]
  },
  {
   "cell_type": "code",
   "execution_count": 29,
   "metadata": {},
   "outputs": [
    {
     "name": "stderr",
     "output_type": "stream",
     "text": [
      "<ipython-input-20-ea1773784845>:12: UserWarning: Boolean Series key will be reindexed to match DataFrame index.\n",
      "  baseline_go_prep_time = d1.iloc[baseline_idx][d1.go == 1.0]['baseline_inner_circle_go.started'].values - d1.iloc[baseline_idx][d1.go == 1.0]['target.started'].values\n",
      "<ipython-input-20-ea1773784845>:12: UserWarning: Boolean Series key will be reindexed to match DataFrame index.\n",
      "  baseline_go_prep_time = d1.iloc[baseline_idx][d1.go == 1.0]['baseline_inner_circle_go.started'].values - d1.iloc[baseline_idx][d1.go == 1.0]['target.started'].values\n",
      "<ipython-input-20-ea1773784845>:13: UserWarning: Boolean Series key will be reindexed to match DataFrame index.\n",
      "  baseline_nogo_prep_time = d1.iloc[baseline_idx][d1.go == 0.0]['baseline_inner_circle_nog.started'].values - d1.iloc[baseline_idx][d1.go == 0.0]['target.started'].values\n",
      "<ipython-input-20-ea1773784845>:13: UserWarning: Boolean Series key will be reindexed to match DataFrame index.\n",
      "  baseline_nogo_prep_time = d1.iloc[baseline_idx][d1.go == 0.0]['baseline_inner_circle_nog.started'].values - d1.iloc[baseline_idx][d1.go == 0.0]['target.started'].values\n",
      "<ipython-input-20-ea1773784845>:47: UserWarning: Boolean Series key will be reindexed to match DataFrame index.\n",
      "  rotation_go_prep_time = d1.iloc[rotation_idx][d1.go == 1.0]['rotation_inner_circle_go.started'].values - d1.iloc[rotation_idx][d1.go == 1.0]['target_rotated.started'].values\n",
      "<ipython-input-20-ea1773784845>:47: UserWarning: Boolean Series key will be reindexed to match DataFrame index.\n",
      "  rotation_go_prep_time = d1.iloc[rotation_idx][d1.go == 1.0]['rotation_inner_circle_go.started'].values - d1.iloc[rotation_idx][d1.go == 1.0]['target_rotated.started'].values\n",
      "<ipython-input-20-ea1773784845>:48: UserWarning: Boolean Series key will be reindexed to match DataFrame index.\n",
      "  rotation_nogo_prep_time = d1.iloc[rotation_idx][d1.go == 0.0]['rotation_inner_circle_nogo.started'].values - d1.iloc[rotation_idx][d1.go == 0.0]['target_rotated.started'].values\n",
      "<ipython-input-20-ea1773784845>:48: UserWarning: Boolean Series key will be reindexed to match DataFrame index.\n",
      "  rotation_nogo_prep_time = d1.iloc[rotation_idx][d1.go == 0.0]['rotation_inner_circle_nogo.started'].values - d1.iloc[rotation_idx][d1.go == 0.0]['target_rotated.started'].values\n"
     ]
    }
   ],
   "source": [
    "events, events_non_prep_onsets, dur= save_prep_events(1.0, 2, 3)"
   ]
  },
  {
   "cell_type": "code",
   "execution_count": 30,
   "metadata": {},
   "outputs": [
    {
     "data": {
      "text/html": [
       "<div>\n",
       "<style scoped>\n",
       "    .dataframe tbody tr th:only-of-type {\n",
       "        vertical-align: middle;\n",
       "    }\n",
       "\n",
       "    .dataframe tbody tr th {\n",
       "        vertical-align: top;\n",
       "    }\n",
       "\n",
       "    .dataframe thead th {\n",
       "        text-align: right;\n",
       "    }\n",
       "</style>\n",
       "<table border=\"1\" class=\"dataframe\">\n",
       "  <thead>\n",
       "    <tr style=\"text-align: right;\">\n",
       "      <th></th>\n",
       "      <th>onset</th>\n",
       "      <th>trial_type</th>\n",
       "      <th>duration</th>\n",
       "    </tr>\n",
       "  </thead>\n",
       "  <tbody>\n",
       "    <tr>\n",
       "      <th>0</th>\n",
       "      <td>0.000000</td>\n",
       "      <td>nogo_99</td>\n",
       "      <td>2.044656</td>\n",
       "    </tr>\n",
       "    <tr>\n",
       "      <th>1</th>\n",
       "      <td>8.036178</td>\n",
       "      <td>go_207</td>\n",
       "      <td>2.222336</td>\n",
       "    </tr>\n",
       "    <tr>\n",
       "      <th>1</th>\n",
       "      <td>10.258514</td>\n",
       "      <td>non_prep_go_207</td>\n",
       "      <td>5.991522</td>\n",
       "    </tr>\n",
       "    <tr>\n",
       "      <th>2</th>\n",
       "      <td>15.750641</td>\n",
       "      <td>go_153</td>\n",
       "      <td>1.874295</td>\n",
       "    </tr>\n",
       "    <tr>\n",
       "      <th>2</th>\n",
       "      <td>17.624936</td>\n",
       "      <td>non_prep_go_153</td>\n",
       "      <td>5.492127</td>\n",
       "    </tr>\n",
       "    <tr>\n",
       "      <th>...</th>\n",
       "      <td>...</td>\n",
       "      <td>...</td>\n",
       "      <td>...</td>\n",
       "    </tr>\n",
       "    <tr>\n",
       "      <th>37</th>\n",
       "      <td>368.429258</td>\n",
       "      <td>non_prep_nogo_153</td>\n",
       "      <td>12.426512</td>\n",
       "    </tr>\n",
       "    <tr>\n",
       "      <th>38</th>\n",
       "      <td>375.305069</td>\n",
       "      <td>go_153</td>\n",
       "      <td>1.907661</td>\n",
       "    </tr>\n",
       "    <tr>\n",
       "      <th>38</th>\n",
       "      <td>377.212730</td>\n",
       "      <td>non_prep_go_153</td>\n",
       "      <td>6.875812</td>\n",
       "    </tr>\n",
       "    <tr>\n",
       "      <th>39</th>\n",
       "      <td>382.688078</td>\n",
       "      <td>go_99</td>\n",
       "      <td>2.070210</td>\n",
       "    </tr>\n",
       "    <tr>\n",
       "      <th>39</th>\n",
       "      <td>384.758288</td>\n",
       "      <td>non_prep_go_99</td>\n",
       "      <td>5.475348</td>\n",
       "    </tr>\n",
       "  </tbody>\n",
       "</table>\n",
       "<p>79 rows × 3 columns</p>\n",
       "</div>"
      ],
      "text/plain": [
       "         onset         trial_type   duration\n",
       "0     0.000000            nogo_99   2.044656\n",
       "1     8.036178             go_207   2.222336\n",
       "1    10.258514    non_prep_go_207   5.991522\n",
       "2    15.750641             go_153   1.874295\n",
       "2    17.624936    non_prep_go_153   5.492127\n",
       "..         ...                ...        ...\n",
       "37  368.429258  non_prep_nogo_153  12.426512\n",
       "38  375.305069             go_153   1.907661\n",
       "38  377.212730    non_prep_go_153   6.875812\n",
       "39  382.688078              go_99   2.070210\n",
       "39  384.758288     non_prep_go_99   5.475348\n",
       "\n",
       "[79 rows x 3 columns]"
      ]
     },
     "execution_count": 30,
     "metadata": {},
     "output_type": "execute_result"
    }
   ],
   "source": [
    "events"
   ]
  },
  {
   "cell_type": "code",
   "execution_count": null,
   "metadata": {},
   "outputs": [],
   "source": []
  },
  {
   "cell_type": "code",
   "execution_count": null,
   "metadata": {},
   "outputs": [],
   "source": []
  },
  {
   "cell_type": "code",
   "execution_count": 467,
   "metadata": {},
   "outputs": [],
   "source": [
    "def save_pre_prep_events(alternate_loop_no, baseline_run_no, rotation_run_no):\n",
    "    d1 = data[data['alternate_baseline_rotation.thisN'] == alternate_loop_no]\n",
    "    baseline_idx = np.unique(d1['baseline_loop.thisTrialN'], return_index=True)[1][:40]\n",
    "    rotation_idx = np.unique(d1['rotation_loop.thisTrialN'], return_index=True)[1][:40]\n",
    "    \n",
    "    #For baseline Runs\n",
    "    target_directions = np.array(d1.iloc[baseline_idx]['target_angle']).astype(int).astype(str)\n",
    "    go_trial = np.array(d1.iloc[baseline_idx]['go']).astype(str)\n",
    "    #iti = np.array(d1.iloc[baseline_idx]['ITI'])\n",
    "    #it = np.array(d1.IT[baseline_idx])\n",
    "\n",
    "    baseline_go_prep_time = d1.iloc[baseline_idx][d1.go == 1.0]['baseline_inner_circle_go.started'].values - d1.iloc[baseline_idx][d1.go == 1.0]['target.started'].values\n",
    "    baseline_nogo_prep_time = d1.iloc[baseline_idx][d1.go == 0.0]['baseline_inner_circle_nog.started'].values - d1.iloc[baseline_idx][d1.go == 0.0]['target.started'].values\n",
    "\n",
    "    target_onset = np.array(d1.iloc[baseline_idx]['target.started'] - np.array(d1.iloc[baseline_idx]['target.started'])[0])\n",
    "\n",
    "    duration = np.zeros(40)\n",
    "    duration[go_trial == '1.0'] = baseline_go_prep_time\n",
    "    duration[go_trial == '0.0'] = baseline_nogo_prep_time\n",
    "    go_trial[go_trial == '1.0'] = 'go_'\n",
    "    go_trial[go_trial == '0.0'] = 'nogo_'\n",
    "    \n",
    "    ##Saving file\n",
    "    events = pd.DataFrame({'onset': target_onset.astype(str),\n",
    "                           'trial_type':np.add(go_trial.astype(object), target_directions.astype(object)), \n",
    "                           'duration': duration                      \n",
    "                          })\n",
    "    sorted_events = events.sort_values(by = 'trial_type')\n",
    "    baseline_file_name = 'prep_events_run_' + str(baseline_run_no) + '.csv'\n",
    "    sorted_events.to_csv(baseline_file_name)\n",
    "    \n",
    "    #For rotation Runs\n",
    "    target_directions = np.array(d1.iloc[rotation_idx]['target_angle']).astype(int).astype(str)\n",
    "    go_trial = np.array(d1.iloc[rotation_idx]['go']).astype(str)\n",
    "    #iti = np.array(d1.iloc[rotation_idx]['ITI'])\n",
    "    #it = np.array(d1.IT[rotation_idx])\n",
    "\n",
    "    rotation_go_prep_time = d1.iloc[rotation_idx][d1.go == 1.0]['rotation_inner_circle_go.started'].values - d1.iloc[rotation_idx][d1.go == 1.0]['target_rotated.started'].values\n",
    "    rotation_nogo_prep_time = d1.iloc[rotation_idx][d1.go == 0.0]['rotation_inner_circle_nogo.started'].values - d1.iloc[rotation_idx][d1.go == 0.0]['target_rotated.started'].values\n",
    "\n",
    "    target_onset = np.array(d1.iloc[rotation_idx]['target_rotated.started'] - np.array(d1.iloc[rotation_idx]['target_rotated.started'])[0])\n",
    "\n",
    "    duration = np.zeros(40)\n",
    "    duration[go_trial == '1.0'] = rotation_go_prep_time\n",
    "    duration[go_trial == '0.0'] = rotation_nogo_prep_time\n",
    "    go_trial[go_trial == '1.0'] = 'go_'\n",
    "    go_trial[go_trial == '0.0'] = 'nogo_'\n",
    "\n",
    "    events = pd.DataFrame({'onset': target_onset.astype(str),\n",
    "                           'trial_type':np.add(go_trial.astype(object), target_directions.astype(object)), \n",
    "                           'duration': duration                      \n",
    "                          })\n",
    "    sorted_events = events.sort_values(by = 'trial_type')\n",
    "    rot_file_name = 'prep_events_run_' + str(rotation_run_no) + '.csv'\n",
    "\n",
    "    sorted_events.to_csv(rot_file_name)"
   ]
  },
  {
   "cell_type": "code",
   "execution_count": null,
   "metadata": {},
   "outputs": [],
   "source": []
  },
  {
   "cell_type": "code",
   "execution_count": null,
   "metadata": {},
   "outputs": [],
   "source": []
  },
  {
   "cell_type": "code",
   "execution_count": 468,
   "metadata": {},
   "outputs": [
    {
     "name": "stderr",
     "output_type": "stream",
     "text": [
      "<ipython-input-468-bdd161078442>:7: UserWarning: Boolean Series key will be reindexed to match DataFrame index.\n",
      "  rotation_go_prep_time = d1.iloc[rotation_idx][d1.go == 1.0]['rotation_inner_circle_go.started'].values - d1.iloc[rotation_idx][d1.go == 1.0]['target_rotated.started'].values\n",
      "<ipython-input-468-bdd161078442>:7: UserWarning: Boolean Series key will be reindexed to match DataFrame index.\n",
      "  rotation_go_prep_time = d1.iloc[rotation_idx][d1.go == 1.0]['rotation_inner_circle_go.started'].values - d1.iloc[rotation_idx][d1.go == 1.0]['target_rotated.started'].values\n",
      "<ipython-input-468-bdd161078442>:8: UserWarning: Boolean Series key will be reindexed to match DataFrame index.\n",
      "  rotation_nogo_prep_time = d1.iloc[rotation_idx][d1.go == 0.0]['rotation_inner_circle_nogo.started'].values - d1.iloc[rotation_idx][d1.go == 0.0]['target_rotated.started'].values\n",
      "<ipython-input-468-bdd161078442>:8: UserWarning: Boolean Series key will be reindexed to match DataFrame index.\n",
      "  rotation_nogo_prep_time = d1.iloc[rotation_idx][d1.go == 0.0]['rotation_inner_circle_nogo.started'].values - d1.iloc[rotation_idx][d1.go == 0.0]['target_rotated.started'].values\n"
     ]
    }
   ],
   "source": []
  },
  {
   "cell_type": "code",
   "execution_count": 469,
   "metadata": {},
   "outputs": [],
   "source": []
  },
  {
   "cell_type": "code",
   "execution_count": null,
   "metadata": {},
   "outputs": [],
   "source": []
  },
  {
   "cell_type": "code",
   "execution_count": 313,
   "metadata": {},
   "outputs": [],
   "source": [
    "# For non-prep time\n",
    "duration = target_onset[1:] - target_onset[:-1]"
   ]
  },
  {
   "cell_type": "code",
   "execution_count": null,
   "metadata": {},
   "outputs": [],
   "source": [
    "# Last 2 trials were omitted cause scan finished first\n",
    "duration = duration[:-2]\n",
    "target_onset = target_onset[:-2]\n",
    "go_trial = go_trial[:-2]\n",
    "target_directions = target_directions[:-2]\n",
    "go_trial[np.where(go_trial == '1.0')[0]] = 'go_'\n",
    "go_trial[np.where(go_trial == '0.0')[0]] = 'nogo_'\n"
   ]
  }
 ],
 "metadata": {
  "kernelspec": {
   "display_name": "Python 3 (ipykernel)",
   "language": "python",
   "name": "python3"
  },
  "language_info": {
   "codemirror_mode": {
    "name": "ipython",
    "version": 3
   },
   "file_extension": ".py",
   "mimetype": "text/x-python",
   "name": "python",
   "nbconvert_exporter": "python",
   "pygments_lexer": "ipython3",
   "version": "3.8.13"
  }
 },
 "nbformat": 4,
 "nbformat_minor": 4
}
